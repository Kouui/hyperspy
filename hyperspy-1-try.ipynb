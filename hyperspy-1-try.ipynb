{
 "cells": [
  {
   "cell_type": "code",
   "execution_count": 37,
   "metadata": {
    "collapsed": false
   },
   "outputs": [
    {
     "name": "stdout",
     "output_type": "stream",
     "text": [
      "Using matplotlib backend: MacOSX\n"
     ]
    }
   ],
   "source": [
    "%matplotlib qt4\n",
    "\n",
    "import hyperspy.api as hs\n",
    "\n",
    "import numpy as np\n",
    "import matplotlib.pyplot as plt\n",
    "from scipy import io as io\n",
    "import astropy.units as u"
   ]
  },
  {
   "cell_type": "code",
   "execution_count": 3,
   "metadata": {
    "collapsed": true
   },
   "outputs": [],
   "source": [
    "hs?"
   ]
  },
  {
   "cell_type": "code",
   "execution_count": 4,
   "metadata": {
    "collapsed": true
   },
   "outputs": [],
   "source": [
    "hs.load?"
   ]
  },
  {
   "cell_type": "code",
   "execution_count": 5,
   "metadata": {
    "collapsed": true
   },
   "outputs": [],
   "source": [
    "hs.signals?"
   ]
  },
  {
   "cell_type": "code",
   "execution_count": 6,
   "metadata": {
    "collapsed": true
   },
   "outputs": [],
   "source": [
    "file = './data_v2/camera01/pro2016_iquv0000.sav'"
   ]
  },
  {
   "cell_type": "code",
   "execution_count": 9,
   "metadata": {
    "collapsed": false
   },
   "outputs": [
    {
     "data": {
      "text/plain": [
       "(39, 4, 512, 256)"
      ]
     },
     "execution_count": 9,
     "metadata": {},
     "output_type": "execute_result"
    }
   ],
   "source": [
    "pro2016_1 = io.readsav(file, python_dict = True, verbose = False )\n",
    "iquv = pro2016_1['iquv']\n",
    "iquv.shape"
   ]
  },
  {
   "cell_type": "markdown",
   "metadata": {},
   "source": [
    "***\n",
    "### 'loading' data from a numpy array"
   ]
  },
  {
   "cell_type": "markdown",
   "metadata": {},
   "source": [
    "- to create 2D signal using the last 2 axis of a numpy.ndarray\n",
    "> s = hs.signals.Signal2D(numpy.ndarray)\n",
    "\n",
    "- to create 1D signal using the last 1 axis of a numpy.ndarray\n",
    "> s = hs.signals.Signal1D(numpy.ndarray)"
   ]
  },
  {
   "cell_type": "code",
   "execution_count": 11,
   "metadata": {
    "collapsed": false
   },
   "outputs": [
    {
     "data": {
      "text/plain": [
       "<Signal2D, title: , dimensions: (4, 39|256, 512)>"
      ]
     },
     "execution_count": 11,
     "metadata": {},
     "output_type": "execute_result"
    }
   ],
   "source": [
    "s = hs.signals.Signal2D(iquv)\n",
    "s"
   ]
  },
  {
   "cell_type": "markdown",
   "metadata": {},
   "source": [
    "***\n",
    "### setting axis roperties using `axes_manager`"
   ]
  },
  {
   "cell_type": "code",
   "execution_count": 12,
   "metadata": {
    "collapsed": false
   },
   "outputs": [
    {
     "data": {
      "text/html": [
       "<style>\n",
       "table, th, td {\n",
       "\tborder: 1px solid black;\n",
       "\tborder-collapse: collapse;\n",
       "}\n",
       "th, td {\n",
       "\tpadding: 5px;\n",
       "}\n",
       "</style>\n",
       "<p><b>< Axes manager, axes: (4, 39|256, 512) ></b></p>\n",
       "<table style='width:100%'>\n",
       "\n",
       "<tr> \n",
       "<th>Navigation axis name</th> \n",
       "<th>size</th> \n",
       "<th>index</th> \n",
       "<th>offset</th> \n",
       "<th>scale</th> \n",
       "<th>units</th> </tr>\n",
       "<tr> \n",
       "<td><undefined></td> \n",
       "<td>4</td> \n",
       "<td>0</td> \n",
       "<td>0.0</td> \n",
       "<td>1.0</td> \n",
       "<td><undefined></td> </tr>\n",
       "<tr> \n",
       "<td><undefined></td> \n",
       "<td>39</td> \n",
       "<td>0</td> \n",
       "<td>0.0</td> \n",
       "<td>1.0</td> \n",
       "<td><undefined></td> </tr></table>\n",
       "<table style='width:100%'>\n",
       "\n",
       "<tr> \n",
       "<th>Signal axis name</th> \n",
       "<th>size</th> \n",
       "<th>offset</th> \n",
       "<th>scale</th> \n",
       "<th>units</th> </tr>\n",
       "<tr> \n",
       "<td><undefined></td> \n",
       "<td>256</td> \n",
       "<td>0.0</td> \n",
       "<td>1.0</td> \n",
       "<td><undefined></td> </tr>\n",
       "<tr> \n",
       "<td><undefined></td> \n",
       "<td>512</td> \n",
       "<td>0.0</td> \n",
       "<td>1.0</td> \n",
       "<td><undefined></td> </tr></table>\n"
      ],
      "text/plain": [
       "<Axes manager, axes: (4, 39|256, 512)>\n",
       "            Name |   size |  index |  offset |   scale |  units \n",
       "================ | ====== | ====== | ======= | ======= | ====== \n",
       "     <undefined> |      4 |      0 |       0 |       1 | <undefined> \n",
       "     <undefined> |     39 |      0 |       0 |       1 | <undefined> \n",
       "---------------- | ------ | ------ | ------- | ------- | ------ \n",
       "     <undefined> |    256 |        |       0 |       1 | <undefined> \n",
       "     <undefined> |    512 |        |       0 |       1 | <undefined> "
      ]
     },
     "execution_count": 12,
     "metadata": {},
     "output_type": "execute_result"
    }
   ],
   "source": [
    "s.axes_manager"
   ]
  },
  {
   "cell_type": "code",
   "execution_count": 18,
   "metadata": {
    "collapsed": false
   },
   "outputs": [
    {
     "data": {
      "text/plain": [
       "<Unnamed 3rd axis, size: 512>"
      ]
     },
     "execution_count": 18,
     "metadata": {},
     "output_type": "execute_result"
    }
   ],
   "source": [
    "s.axes_manager[3]"
   ]
  },
  {
   "cell_type": "code",
   "execution_count": 22,
   "metadata": {
    "collapsed": true
   },
   "outputs": [],
   "source": [
    "s.axes_manager[0].name = 'stokes'\n",
    "s.axes_manager[1].name = 'scan'\n",
    "s.axes_manager[2].name = 'slit'\n",
    "s.axes_manager[3].name = 'wavelength'"
   ]
  },
  {
   "cell_type": "code",
   "execution_count": 23,
   "metadata": {
    "collapsed": false
   },
   "outputs": [
    {
     "data": {
      "text/html": [
       "<style>\n",
       "table, th, td {\n",
       "\tborder: 1px solid black;\n",
       "\tborder-collapse: collapse;\n",
       "}\n",
       "th, td {\n",
       "\tpadding: 5px;\n",
       "}\n",
       "</style>\n",
       "<p><b>< Axes manager, axes: (4, 39|256, 512) ></b></p>\n",
       "<table style='width:100%'>\n",
       "\n",
       "<tr> \n",
       "<th>Navigation axis name</th> \n",
       "<th>size</th> \n",
       "<th>index</th> \n",
       "<th>offset</th> \n",
       "<th>scale</th> \n",
       "<th>units</th> </tr>\n",
       "<tr> \n",
       "<td>stokes</td> \n",
       "<td>4</td> \n",
       "<td>0</td> \n",
       "<td>0.0</td> \n",
       "<td>1.0</td> \n",
       "<td><undefined></td> </tr>\n",
       "<tr> \n",
       "<td>scan</td> \n",
       "<td>39</td> \n",
       "<td>0</td> \n",
       "<td>0.0</td> \n",
       "<td>1.0</td> \n",
       "<td><undefined></td> </tr></table>\n",
       "<table style='width:100%'>\n",
       "\n",
       "<tr> \n",
       "<th>Signal axis name</th> \n",
       "<th>size</th> \n",
       "<th>offset</th> \n",
       "<th>scale</th> \n",
       "<th>units</th> </tr>\n",
       "<tr> \n",
       "<td>slit</td> \n",
       "<td>256</td> \n",
       "<td>0.0</td> \n",
       "<td>1.0</td> \n",
       "<td><undefined></td> </tr>\n",
       "<tr> \n",
       "<td>wavelength</td> \n",
       "<td>512</td> \n",
       "<td>0.0</td> \n",
       "<td>1.0</td> \n",
       "<td><undefined></td> </tr></table>\n"
      ],
      "text/plain": [
       "<Axes manager, axes: (4, 39|256, 512)>\n",
       "            Name |   size |  index |  offset |   scale |  units \n",
       "================ | ====== | ====== | ======= | ======= | ====== \n",
       "          stokes |      4 |      0 |       0 |       1 | <undefined> \n",
       "            scan |     39 |      0 |       0 |       1 | <undefined> \n",
       "---------------- | ------ | ------ | ------- | ------- | ------ \n",
       "            slit |    256 |        |       0 |       1 | <undefined> \n",
       "      wavelength |    512 |        |       0 |       1 | <undefined> "
      ]
     },
     "execution_count": 23,
     "metadata": {},
     "output_type": "execute_result"
    }
   ],
   "source": [
    "s.axes_manager"
   ]
  },
  {
   "cell_type": "markdown",
   "metadata": {},
   "source": [
    "#### once the name of an axis has been defined it is possible to request it by its name "
   ]
  },
  {
   "cell_type": "code",
   "execution_count": 24,
   "metadata": {
    "collapsed": false
   },
   "outputs": [
    {
     "data": {
      "text/plain": [
       "<stokes axis, size: 4, index: 0>"
      ]
     },
     "execution_count": 24,
     "metadata": {},
     "output_type": "execute_result"
    }
   ],
   "source": [
    "s.axes_manager['stokes']"
   ]
  },
  {
   "cell_type": "code",
   "execution_count": 33,
   "metadata": {
    "collapsed": false
   },
   "outputs": [],
   "source": [
    "s.axes_manager['scan'].units = 'arcsec'\n",
    "s.axes_manager['scan'].scale = 2\n",
    "s.axes_manager['scan'].offset = 16*60 + 20"
   ]
  },
  {
   "cell_type": "code",
   "execution_count": 34,
   "metadata": {
    "collapsed": false
   },
   "outputs": [
    {
     "data": {
      "text/html": [
       "<style>\n",
       "table, th, td {\n",
       "\tborder: 1px solid black;\n",
       "\tborder-collapse: collapse;\n",
       "}\n",
       "th, td {\n",
       "\tpadding: 5px;\n",
       "}\n",
       "</style>\n",
       "<p><b>< Axes manager, axes: (4, 39|256, 512) ></b></p>\n",
       "<table style='width:100%'>\n",
       "\n",
       "<tr> \n",
       "<th>Navigation axis name</th> \n",
       "<th>size</th> \n",
       "<th>index</th> \n",
       "<th>offset</th> \n",
       "<th>scale</th> \n",
       "<th>units</th> </tr>\n",
       "<tr> \n",
       "<td>stokes</td> \n",
       "<td>4</td> \n",
       "<td>0</td> \n",
       "<td>0.0</td> \n",
       "<td>1.0</td> \n",
       "<td><undefined></td> </tr>\n",
       "<tr> \n",
       "<td>scan</td> \n",
       "<td>39</td> \n",
       "<td>0</td> \n",
       "<td>980.0</td> \n",
       "<td>2.0</td> \n",
       "<td>arcsec</td> </tr></table>\n",
       "<table style='width:100%'>\n",
       "\n",
       "<tr> \n",
       "<th>Signal axis name</th> \n",
       "<th>size</th> \n",
       "<th>offset</th> \n",
       "<th>scale</th> \n",
       "<th>units</th> </tr>\n",
       "<tr> \n",
       "<td>slit</td> \n",
       "<td>256</td> \n",
       "<td>0.0</td> \n",
       "<td>1.0</td> \n",
       "<td><undefined></td> </tr>\n",
       "<tr> \n",
       "<td>wavelength</td> \n",
       "<td>512</td> \n",
       "<td>0.0</td> \n",
       "<td>1.0</td> \n",
       "<td><undefined></td> </tr></table>\n"
      ],
      "text/plain": [
       "<Axes manager, axes: (4, 39|256, 512)>\n",
       "            Name |   size |  index |  offset |   scale |  units \n",
       "================ | ====== | ====== | ======= | ======= | ====== \n",
       "          stokes |      4 |      0 |       0 |       1 | <undefined> \n",
       "            scan |     39 |      0 | 9.8e+02 |       2 | arcsec \n",
       "---------------- | ------ | ------ | ------- | ------- | ------ \n",
       "            slit |    256 |        |       0 |       1 | <undefined> \n",
       "      wavelength |    512 |        |       0 |       1 | <undefined> "
      ]
     },
     "execution_count": 34,
     "metadata": {},
     "output_type": "execute_result"
    }
   ],
   "source": [
    "s.axes_manager"
   ]
  },
  {
   "cell_type": "markdown",
   "metadata": {},
   "source": [
    "***\n",
    "### saving and loading files"
   ]
  },
  {
   "cell_type": "code",
   "execution_count": 35,
   "metadata": {
    "collapsed": true
   },
   "outputs": [],
   "source": [
    "s.save('./pro2016_1.hdf5')"
   ]
  },
  {
   "cell_type": "code",
   "execution_count": 39,
   "metadata": {
    "collapsed": false
   },
   "outputs": [],
   "source": [
    "hs.set_log_level('INFO')"
   ]
  },
  {
   "cell_type": "code",
   "execution_count": 43,
   "metadata": {
    "collapsed": true
   },
   "outputs": [],
   "source": [
    "s = hs.load('./pro2016_1.hdf5')"
   ]
  },
  {
   "cell_type": "markdown",
   "metadata": {},
   "source": [
    "***\n",
    "### transforming between signal subclasses"
   ]
  },
  {
   "cell_type": "code",
   "execution_count": 45,
   "metadata": {
    "collapsed": false
   },
   "outputs": [
    {
     "data": {
      "text/plain": [
       "<Signal2D, title: , dimensions: (4, 39|256, 512)>"
      ]
     },
     "execution_count": 45,
     "metadata": {},
     "output_type": "execute_result"
    }
   ],
   "source": [
    "s"
   ]
  },
  {
   "cell_type": "code",
   "execution_count": 46,
   "metadata": {
    "collapsed": false
   },
   "outputs": [
    {
     "data": {
      "text/plain": [
       "├── General\n",
       "│   └── title = \n",
       "└── Signal\n",
       "    ├── binned = False\n",
       "    └── signal_type = "
      ]
     },
     "execution_count": 46,
     "metadata": {},
     "output_type": "execute_result"
    }
   ],
   "source": [
    "s.metadata"
   ]
  },
  {
   "cell_type": "code",
   "execution_count": 53,
   "metadata": {
    "collapsed": false
   },
   "outputs": [
    {
     "name": "stderr",
     "output_type": "stream",
     "text": [
      "WARNING:hyperspy.signal:<Signal1D, title: , dimensions: (256, 4, 39|512)> data is replaced by its optimized copy\n"
     ]
    },
    {
     "data": {
      "text/plain": [
       "<Signal1D, title: , dimensions: (256, 4, 39|512)>"
      ]
     },
     "execution_count": 53,
     "metadata": {},
     "output_type": "execute_result"
    }
   ],
   "source": [
    "profile = s.as_signal1D('wavelength')\n",
    "profile"
   ]
  },
  {
   "cell_type": "code",
   "execution_count": 55,
   "metadata": {
    "collapsed": false
   },
   "outputs": [
    {
     "name": "stderr",
     "output_type": "stream",
     "text": [
      "WARNING:hyperspy.signal:<Signal2D, title: , dimensions: (256, 39|4, 512)> data is replaced by its optimized copy\n"
     ]
    },
    {
     "data": {
      "text/plain": [
       "<Signal2D, title: , dimensions: (256, 39|4, 512)>"
      ]
     },
     "execution_count": 55,
     "metadata": {},
     "output_type": "execute_result"
    }
   ],
   "source": [
    "stokes_profile = s.as_signal2D(('stokes','wavelength'))\n",
    "stokes_profile"
   ]
  },
  {
   "cell_type": "markdown",
   "metadata": {},
   "source": [
    "***\n",
    "### `.isig` and `.inav` allow us to look deep inside signal space and navigation space by indexing"
   ]
  },
  {
   "cell_type": "code",
   "execution_count": 59,
   "metadata": {
    "collapsed": false
   },
   "outputs": [
    {
     "data": {
      "text/plain": [
       "<Signal1D, title: , dimensions: (256, 4, 39|512)>"
      ]
     },
     "execution_count": 59,
     "metadata": {},
     "output_type": "execute_result"
    }
   ],
   "source": [
    "profile"
   ]
  },
  {
   "cell_type": "code",
   "execution_count": 58,
   "metadata": {
    "collapsed": false
   },
   "outputs": [
    {
     "data": {
      "text/plain": [
       "<BaseSignal, title: , dimensions: (256, 4, 39|)>"
      ]
     },
     "execution_count": 58,
     "metadata": {},
     "output_type": "execute_result"
    }
   ],
   "source": [
    "profile.isig[0]"
   ]
  },
  {
   "cell_type": "code",
   "execution_count": 60,
   "metadata": {
    "collapsed": false
   },
   "outputs": [
    {
     "data": {
      "text/plain": [
       "<Signal1D, title: , dimensions: (|512)>"
      ]
     },
     "execution_count": 60,
     "metadata": {},
     "output_type": "execute_result"
    }
   ],
   "source": [
    "profile.inav[100,1,30]"
   ]
  },
  {
   "cell_type": "code",
   "execution_count": 64,
   "metadata": {
    "collapsed": true
   },
   "outputs": [
    {
     "data": {
      "text/plain": [
       "array([  1.82827515e+02,   2.48957764e+02,   2.57711670e+02,\n",
       "         8.31903152e+01,   7.71073837e+01,   2.58094635e+02,\n",
       "         4.88649063e+01,   2.34362854e+02,   2.10187241e+02,\n",
       "         1.37573563e+02,   1.98837265e+02,   2.81870575e+02,\n",
       "         1.01631714e+02,  -2.07013702e+01,   5.23385925e+01,\n",
       "        -9.93670883e+01,  -6.05286942e+01,  -6.03402214e+01,\n",
       "         2.20647163e+01,  -7.28950577e+01,  -8.03648853e+00,\n",
       "         3.35528450e+01,   1.85867443e+01,   1.32416809e+02,\n",
       "        -1.33624229e+01,   8.12513351e+01,  -1.13630495e+01,\n",
       "         1.57993793e+00,   1.52132111e+02,  -3.67137604e+01,\n",
       "         1.66010162e+02,  -1.90122490e+01,  -7.63213577e+01,\n",
       "         1.39563614e+02,   8.40409241e+01,   3.25370522e+01,\n",
       "         1.47256760e+02,   5.31235428e+01,   9.39904861e+01,\n",
       "         1.54366714e+02,   3.52943764e+01,  -4.33570938e+01,\n",
       "         7.20513535e+01,   4.87029762e+01,   1.84720097e+01,\n",
       "         4.63365059e+01,   1.25275177e+02,  -1.35724289e+02,\n",
       "        -1.01941116e+02,  -5.39619293e+01,  -3.75936165e+01,\n",
       "         4.00412102e+01,   9.33238602e+01,   6.26564751e+01,\n",
       "         4.60930710e+01,   8.91478348e+01,   9.71464081e+01,\n",
       "         1.60360394e+01,   4.76015854e+01,   9.91024780e+01,\n",
       "         6.04451714e+01,   6.32251892e+01,   4.93787994e+01,\n",
       "        -8.24442673e+01,   6.57277145e+01,  -1.54003510e+02,\n",
       "         8.91081161e+01,   1.59465225e+02,   3.50445824e+01,\n",
       "         9.16991119e+01,  -3.74290962e+01,   2.05440063e+01,\n",
       "         8.63255081e+01,   4.37054214e+01,  -5.41339264e+01,\n",
       "         1.94901932e+02,   8.25201035e+01,   1.18404770e+02,\n",
       "         2.98311806e+01,   1.92903652e+01,   3.35327415e+01,\n",
       "        -1.43003893e+01,  -6.54470749e+01,  -4.89746170e+01,\n",
       "         1.18707192e+00,   5.37586632e+01,   5.10686684e+01,\n",
       "         6.43283691e+01,  -3.63263893e+01,   2.57406502e+01,\n",
       "         1.11405136e+02,   1.20772064e+02,   6.79860840e+01,\n",
       "         2.86120338e+01,  -6.03914261e+01,   1.21775558e+02,\n",
       "         2.89508972e+02,   1.21580093e+02,   3.85255432e+01,\n",
       "        -1.73313446e+02,  -7.43992233e+01,  -6.95033340e+01,\n",
       "         8.51799469e+01,  -4.22557716e+01,   1.01271202e+02,\n",
       "         4.20177251e-01,   4.62245178e+01,  -1.44006302e+02,\n",
       "        -4.53025780e+01,   6.91095505e+01,  -1.28591812e+02,\n",
       "         1.54746914e+01,  -1.84015289e+02,  -3.19070911e+01,\n",
       "        -1.02892197e+02,   3.25576782e+01,  -3.02245789e+01,\n",
       "        -5.94104080e+01,   5.42316513e+01,   3.07556305e+01,\n",
       "        -4.26461716e+01,   1.78836380e+02,  -2.14424992e+01,\n",
       "        -4.00955849e+01,   1.17527245e+02,  -3.06473656e+01,\n",
       "        -1.70679703e+02,  -4.43889809e+01,  -1.13315987e+02,\n",
       "         9.40327225e+01,   1.35870850e+02,  -8.85287628e+01,\n",
       "         3.46395302e+00,  -6.10001335e+01,  -1.28764404e+02,\n",
       "        -1.36579865e+02,  -7.51658096e+01,  -4.44497719e+01,\n",
       "        -4.54029381e-01,   6.60091248e+01,   8.47869949e+01,\n",
       "         1.12525085e+02,   1.85612259e+02,   7.87031174e+01,\n",
       "         8.16929474e+01,  -9.55655975e+01,   5.59222946e+01,\n",
       "         1.12114990e+02,  -2.34220581e+01,  -1.35271378e+02,\n",
       "        -1.64331589e+01,   4.90961227e+01,  -9.16932011e+00,\n",
       "        -8.71375427e+01,  -3.87299118e+01,  -6.36493645e+01,\n",
       "         6.61041336e+01,  -1.13740524e+02,   2.31374187e+01,\n",
       "         4.47499504e+01,   8.58844090e+00,  -1.41774082e+01,\n",
       "        -5.09665108e+01,   1.95214901e+01,  -8.77882233e+01,\n",
       "         1.42332306e+02,   1.74644516e+02,  -5.66639214e+01,\n",
       "        -2.29114413e+00,  -7.42948456e+01,  -8.28284912e+01,\n",
       "         5.45794411e+01,  -5.45252151e+01,   1.10151985e+02,\n",
       "        -6.92404404e+01,   1.71398758e+02,   9.54945469e+00,\n",
       "         9.15360489e+01,   2.98736572e+01,  -2.44420929e+01,\n",
       "         1.12650803e+02,   1.76593342e+01,   7.47289963e+01,\n",
       "        -5.47727489e+00,   2.23281212e+01,   1.08982399e+02,\n",
       "         3.36081543e+01,   1.08502106e+02,   2.28602409e+01,\n",
       "        -7.61642075e+01,  -3.41376877e+01,  -4.52974319e+01,\n",
       "         1.43956406e+02,  -1.04386787e+01,  -6.33889885e+01,\n",
       "         1.86148209e+02,   4.70529099e+01,  -6.79257011e+00,\n",
       "        -6.13034706e+01,   1.85235729e+01,   4.59381027e+01,\n",
       "        -6.37766533e+01,  -3.30017509e+01,   3.26811218e+01,\n",
       "        -3.65701103e+01,   6.23895378e+01,  -3.10769348e+01,\n",
       "         6.48983917e+01,  -1.37056366e+02,   1.28646002e+01,\n",
       "        -1.96365223e+01,  -5.60767822e+01,   7.74561844e+01,\n",
       "        -1.02483551e+02,  -1.98614311e+01,  -9.38937149e+01,\n",
       "        -1.93762779e+01,  -5.01549301e+01,   2.53371124e+01,\n",
       "        -1.16348944e+01,   1.71395934e+00,   1.15908142e+02,\n",
       "         2.24004574e+01,   1.57443466e+02,   1.78455978e+02,\n",
       "        -4.94998932e+01,   1.31295883e+02,   9.11679230e+01,\n",
       "         1.12191055e+02,   1.32720749e+02,   9.69230270e+01,\n",
       "         1.39196335e+02,  -3.15119972e+01,  -9.22817154e+01,\n",
       "         2.98327351e+01,   6.64917908e+01,   8.13437805e+01,\n",
       "        -1.23399420e+01,  -2.02361469e+01,   5.13022709e+00,\n",
       "        -1.73292274e+01,  -6.69125595e+01,   8.83961945e+01,\n",
       "         1.21129417e+02,   9.18275070e+01,   6.50900879e+01,\n",
       "         1.51359238e+02,   1.48484604e+02,   1.80088940e+01,\n",
       "         3.40594902e+01,  -5.50392580e+00,  -3.61702461e+01,\n",
       "        -4.10327034e+01,   1.09661293e+02,   3.43295288e+01,\n",
       "         1.37697935e+01,   9.12621765e+01,   4.71671753e+01,\n",
       "         1.07594757e+02,   6.20892525e+01,   6.26827431e+01,\n",
       "        -7.35743523e+00,  -3.90970840e+01,   1.34273422e+02,\n",
       "         6.56764374e+01,   3.97279892e+01,   1.11207565e+02,\n",
       "         2.01035477e+02,  -7.90934372e+01,  -5.48669319e+01,\n",
       "        -3.75984836e+00,   1.22359940e+02,   1.14352158e+02,\n",
       "         3.23386612e+01,   5.54496117e+01,  -2.00987511e+01,\n",
       "         1.80324116e+01,   1.48123291e+02,  -3.96317139e+01,\n",
       "         2.88224745e+00,  -3.00214462e+01,   2.62394352e+01,\n",
       "         3.04176579e+01,   3.56748009e+01,   2.09693207e+02,\n",
       "         1.26879486e+02,   1.20622009e+02,   6.29974823e+01,\n",
       "         4.28646584e+01,  -2.64356494e+00,  -2.30744696e+00,\n",
       "         2.02530396e+02,   1.34745499e+02,  -5.94029427e+01,\n",
       "         2.95397739e+01,   1.86534744e+02,   6.29854889e+01,\n",
       "         1.54852819e+01,   9.44934998e+01,   1.41770996e+02,\n",
       "         1.53615818e+01,   8.50827599e+00,  -4.47977524e+01,\n",
       "         1.24390282e+02,  -6.47165222e+01,  -9.59309616e+01,\n",
       "         1.67982635e+02,  -6.94077530e+01,  -3.61849174e+01,\n",
       "         3.18736992e+01,   4.23672829e+01,   4.42951431e+01,\n",
       "         1.33601028e+02,   6.98679962e+01,  -1.46583824e+01,\n",
       "        -5.79786415e+01,  -8.58424835e+01,  -3.33092270e+01,\n",
       "         7.07521362e+01,   5.21223679e+01,   1.36325541e+01,\n",
       "         1.65641575e+01,  -1.25717926e+01,   9.82096710e+01,\n",
       "        -2.15066681e+01,   6.97528915e+01,  -3.57947960e+01,\n",
       "         1.22814316e+02,  -2.99137993e+01,   1.84224815e+01,\n",
       "        -6.73627701e+01,  -8.65027084e+01,  -1.43224359e-01,\n",
       "         6.68075409e+01,   2.14754810e+01,   1.76304901e+02,\n",
       "         5.71162987e+01,   1.60379852e+02,  -4.69736099e+01,\n",
       "         1.14963104e+02,   8.26669312e+01,   7.82406464e+01,\n",
       "        -2.30248718e+01,   2.91721745e+01,   1.74650269e+01,\n",
       "         1.03755692e+02,   6.02002182e+01,  -6.03694420e+01,\n",
       "        -4.61998520e+01,   9.71227646e+00,  -8.53149605e+00,\n",
       "         6.36503944e+01,  -1.83500652e+01,   1.37514603e+02,\n",
       "         9.71345139e+01,   4.83406143e+01,  -4.61425858e+01,\n",
       "         2.03560619e+01,  -4.74116516e+01,   2.48889942e+01,\n",
       "         1.23357925e+02,   1.23412888e+02,   4.66488190e+01,\n",
       "         4.41927147e+01,   6.13693428e+01,   2.45640640e+02,\n",
       "         8.53865967e+01,   1.23753326e+02,   7.66373291e+01,\n",
       "         1.74971512e+02,  -1.14454460e+01,   2.86257839e+01,\n",
       "         7.08838501e+01,   8.65456390e+01,   8.79040909e+01,\n",
       "        -6.90598202e+00,  -6.81828156e+01,   5.67074471e+01,\n",
       "         4.37000923e+01,   1.79928150e+01,   9.46775436e+01,\n",
       "         3.26019707e+01,   6.64004059e+01,   5.88704147e+01,\n",
       "        -6.44644623e+01,  -5.32791138e+00,   5.74258499e+01,\n",
       "         4.31215134e+01,  -4.38434105e+01,   5.25120964e+01,\n",
       "         7.99294128e+01,  -5.90832062e+01,  -1.28876617e+02,\n",
       "         2.96781960e+01,  -1.18447273e+02,   5.33146515e+01,\n",
       "         1.84854412e+01,   4.72470665e+00,  -3.74836884e+01,\n",
       "         8.21201172e+01,   4.98014793e+01,   4.44618416e+01,\n",
       "         2.93359470e+01,   1.30180874e+01,   7.73613205e+01,\n",
       "         5.83369102e+01,   7.47213058e+01,   3.09525261e+01,\n",
       "         8.35230255e+01,   4.07382355e+01,  -5.43512573e+01,\n",
       "         9.05686493e+01,   6.57157230e+00,   9.32006073e+01,\n",
       "        -1.62865410e+01,   5.21430435e+01,   1.71139267e+02,\n",
       "         5.31358032e+01,   7.08008575e+01,   4.63966484e+01,\n",
       "        -5.65410652e+01,  -4.25324821e+01,  -4.63922424e+01,\n",
       "         1.00694305e+02,  -4.39637260e+01,  -1.91496639e+01,\n",
       "        -2.34665489e+01,  -7.61876535e+00,   1.25075893e+01,\n",
       "         7.73737106e+01,   8.40636292e+01,   4.03298340e+01,\n",
       "        -7.96196699e+00,   7.26951523e+01,   1.66747665e+01,\n",
       "         7.55786362e+01,  -1.41886292e+01,   9.70294037e+01,\n",
       "         2.94711838e+01,  -7.37869492e+01,  -1.23742523e+02,\n",
       "        -1.25098854e+02,  -1.00351334e+02,   3.64327316e+01,\n",
       "        -5.47858772e+01,   9.09388428e+01,   9.98768616e+01,\n",
       "         5.98550797e+01,   2.10851154e+01,   2.22148647e+01,\n",
       "         8.88412552e+01,  -1.71011993e+02,   6.62883606e+01,\n",
       "         1.11239986e+01,  -4.24421272e+01,   8.88011246e+01,\n",
       "        -2.08111596e+00,   7.11063309e+01,   1.88760910e+02,\n",
       "         5.52618828e+01,   9.75334015e+01,   1.01472733e+02,\n",
       "        -4.78424568e+01,   1.92108288e+01,   3.60433502e+01,\n",
       "         7.27110748e+01,  -1.00062126e+02,   4.96787186e+01,\n",
       "        -1.23016863e+01,   1.18420851e+00,  -8.31294022e+01,\n",
       "         9.63925552e+00,  -5.34623985e+01,  -8.40664215e+01,\n",
       "         4.63705788e+01,   1.69301346e+02,  -2.78348560e+01,\n",
       "         1.09730400e+02,   3.75491371e+01,  -8.64236603e+01,\n",
       "         4.24608002e+01,  -1.38430977e+01,   2.58542404e+01,\n",
       "         6.63314743e+01,   6.77548552e+00,   5.70970306e+01,\n",
       "         3.58987465e+01,   5.64108620e+01,  -1.20956202e+01,\n",
       "        -2.45097713e+01,   2.19650888e+00,   1.21959465e+02,\n",
       "         1.53369263e+02,  -2.02294403e+02,  -4.91299744e+01,\n",
       "        -1.72260475e+01,   3.41813622e+01,   7.02113647e+01,\n",
       "         2.90139427e+01,   1.55925079e+02,  -9.62746506e+01,\n",
       "         2.17388611e+01,   5.54905510e+01,   2.39032936e+01,\n",
       "         1.85366273e+00,   1.84049149e+02,   5.37809792e+01,\n",
       "         1.90465374e+01,   7.81009827e+01,  -7.43932800e+01,\n",
       "         9.19870281e+00,  -2.98918667e+01], dtype=float32)"
      ]
     },
     "execution_count": 64,
     "metadata": {},
     "output_type": "execute_result"
    }
   ],
   "source": [
    "profile.inav[100,1,30].data"
   ]
  },
  {
   "cell_type": "markdown",
   "metadata": {},
   "source": [
    "#### Unlike numpy, HyperSpy supports indexing using decimal numbers, in which case HyperSpy indexes using the axis scales instead of the indices."
   ]
  },
  {
   "cell_type": "code",
   "execution_count": 65,
   "metadata": {
    "collapsed": false
   },
   "outputs": [
    {
     "data": {
      "text/plain": [
       "2.0"
      ]
     },
     "execution_count": 65,
     "metadata": {},
     "output_type": "execute_result"
    }
   ],
   "source": [
    "s.axes_manager['scan'].scale"
   ]
  },
  {
   "cell_type": "code",
   "execution_count": 69,
   "metadata": {
    "collapsed": false
   },
   "outputs": [
    {
     "data": {
      "text/plain": [
       "array([  980.,   982.,   984.,   986.,   988.,   990.,   992.,   994.,\n",
       "         996.,   998.,  1000.,  1002.,  1004.,  1006.,  1008.,  1010.,\n",
       "        1012.,  1014.,  1016.,  1018.,  1020.,  1022.,  1024.,  1026.,\n",
       "        1028.,  1030.,  1032.,  1034.,  1036.,  1038.,  1040.,  1042.,\n",
       "        1044.,  1046.,  1048.,  1050.,  1052.,  1054.,  1056.])"
      ]
     },
     "execution_count": 69,
     "metadata": {},
     "output_type": "execute_result"
    }
   ],
   "source": [
    "s.axes_manager['scan'].axis"
   ]
  },
  {
   "cell_type": "code",
   "execution_count": 73,
   "metadata": {
    "collapsed": false,
    "scrolled": true
   },
   "outputs": [
    {
     "data": {
      "text/plain": [
       "True"
      ]
     },
     "execution_count": 73,
     "metadata": {},
     "output_type": "execute_result"
    }
   ],
   "source": [
    "(profile.inav[100,1,30].data == profile.inav[100,1,1040.0].data).all()"
   ]
  },
  {
   "cell_type": "code",
   "execution_count": 75,
   "metadata": {
    "collapsed": false
   },
   "outputs": [
    {
     "data": {
      "text/html": [
       "<style>\n",
       "table, th, td {\n",
       "\tborder: 1px solid black;\n",
       "\tborder-collapse: collapse;\n",
       "}\n",
       "th, td {\n",
       "\tpadding: 5px;\n",
       "}\n",
       "</style>\n",
       "<p><b>< Axes manager, axes: (|512) ></b></p>\n",
       "<table style='width:100%'>\n",
       "\n",
       "<tr> \n",
       "<th>Signal axis name</th> \n",
       "<th>size</th> \n",
       "<th>offset</th> \n",
       "<th>scale</th> \n",
       "<th>units</th> </tr>\n",
       "<tr> \n",
       "<td>wavelength</td> \n",
       "<td>512</td> \n",
       "<td>0.0</td> \n",
       "<td>1.0</td> \n",
       "<td><undefined></td> </tr></table>\n"
      ],
      "text/plain": [
       "<Axes manager, axes: (|512)>\n",
       "            Name |   size |  index |  offset |   scale |  units \n",
       "================ | ====== | ====== | ======= | ======= | ====== \n",
       "---------------- | ------ | ------ | ------- | ------- | ------ \n",
       "      wavelength |    512 |        |       0 |       1 | <undefined> "
      ]
     },
     "execution_count": 75,
     "metadata": {},
     "output_type": "execute_result"
    }
   ],
   "source": [
    "profile.inav[100,1,30].axes_manager"
   ]
  },
  {
   "cell_type": "markdown",
   "metadata": {},
   "source": [
    "\n",
    "#### operations are performed element-wise. When the dimensions of the signals are not equal numpy broadcasting rules apply independently for the navigation and signal axes."
   ]
  },
  {
   "cell_type": "markdown",
   "metadata": {},
   "source": [
    "***\n",
    "### summary statistics of the signal"
   ]
  },
  {
   "cell_type": "code",
   "execution_count": 76,
   "metadata": {
    "collapsed": false
   },
   "outputs": [
    {
     "name": "stdout",
     "output_type": "stream",
     "text": [
      "Summary statistics\n",
      "------------------\n",
      "mean:\t14048.452\n",
      "std:\t70125.164\n",
      "\n",
      "min:\t-89064.828\n",
      "Q1:\t38.998\n",
      "median:\t230.065\n",
      "Q3:\t975.510\n",
      "max:\t1927423.375\n"
     ]
    }
   ],
   "source": [
    "profile.print_summary_statistics()"
   ]
  },
  {
   "cell_type": "code",
   "execution_count": 78,
   "metadata": {
    "collapsed": false
   },
   "outputs": [
    {
     "name": "stdout",
     "output_type": "stream",
     "text": [
      "Summary statistics\n",
      "------------------\n",
      "mean:\t30.218\n",
      "std:\t80.983\n",
      "\n",
      "min:\t-202.294\n",
      "Q1:\t-29.897\n",
      "median:\t30.587\n",
      "Q3:\t82.220\n",
      "max:\t289.509\n"
     ]
    }
   ],
   "source": [
    "profile.inav[100,1,30].print_summary_statistics()"
   ]
  },
  {
   "cell_type": "code",
   "execution_count": 81,
   "metadata": {
    "collapsed": false,
    "scrolled": true
   },
   "outputs": [
    {
     "name": "stdout",
     "output_type": "stream",
     "text": [
      "Summary statistics\n",
      "------------------\n",
      "mean:\t19884.787\n",
      "std:\t2596.107\n",
      "\n",
      "min:\t2760.682\n",
      "Q1:\t19440.454\n",
      "median:\t20480.051\n",
      "Q3:\t21275.644\n",
      "max:\t24158.172\n",
      "Summary statistics\n",
      "------------------\n",
      "mean:\t30.218\n",
      "std:\t80.983\n",
      "\n",
      "min:\t-202.294\n",
      "Q1:\t-29.897\n",
      "median:\t30.587\n",
      "Q3:\t82.220\n",
      "max:\t289.509\n",
      "Summary statistics\n",
      "------------------\n",
      "mean:\t67.344\n",
      "std:\t95.750\n",
      "\n",
      "min:\t-211.911\n",
      "Q1:\t3.780\n",
      "median:\t69.903\n",
      "Q3:\t138.413\n",
      "max:\t288.391\n",
      "Summary statistics\n",
      "------------------\n",
      "mean:\t401.386\n",
      "std:\t98.988\n",
      "\n",
      "min:\t53.241\n",
      "Q1:\t332.586\n",
      "median:\t401.073\n",
      "Q3:\t470.039\n",
      "max:\t652.561\n"
     ]
    },
    {
     "data": {
      "text/plain": [
       "[None, None, None, None]"
      ]
     },
     "execution_count": 81,
     "metadata": {},
     "output_type": "execute_result"
    }
   ],
   "source": [
    "[profile.inav[100,i,30].print_summary_statistics() for i in range(4)]"
   ]
  },
  {
   "cell_type": "code",
   "execution_count": 82,
   "metadata": {
    "collapsed": false
   },
   "outputs": [
    {
     "name": "stderr",
     "output_type": "stream",
     "text": [
      "/Users/kouui/anaconda/lib/python3.5/site-packages/matplotlib/__init__.py:898: UserWarning: axes.color_cycle is deprecated and replaced with axes.prop_cycle; please use the latter.\n",
      "  warnings.warn(self.msg_depr % (key, alt_key))\n"
     ]
    },
    {
     "data": {
      "text/plain": [
       "<matplotlib.axes._subplots.AxesSubplot at 0x11e9f40b8>"
      ]
     },
     "execution_count": 82,
     "metadata": {},
     "output_type": "execute_result"
    }
   ],
   "source": [
    "hs.plot.plot_histograms(profile.inav[100,:,30], legend='auto')"
   ]
  },
  {
   "cell_type": "code",
   "execution_count": 89,
   "metadata": {
    "collapsed": false
   },
   "outputs": [
    {
     "name": "stderr",
     "output_type": "stream",
     "text": [
      "/Users/kouui/anaconda/lib/python3.5/site-packages/matplotlib/__init__.py:898: UserWarning: axes.color_cycle is deprecated and replaced with axes.prop_cycle; please use the latter.\n",
      "  warnings.warn(self.msg_depr % (key, alt_key))\n"
     ]
    },
    {
     "data": {
      "text/plain": [
       "<matplotlib.axes._subplots.AxesSubplot at 0x155835780>"
      ]
     },
     "execution_count": 89,
     "metadata": {},
     "output_type": "execute_result"
    }
   ],
   "source": [
    "hs.plot.plot_spectra(profile.inav[100,0,20], legend='auto')"
   ]
  },
  {
   "cell_type": "code",
   "execution_count": 90,
   "metadata": {
    "collapsed": false
   },
   "outputs": [
    {
     "name": "stderr",
     "output_type": "stream",
     "text": [
      "/Users/kouui/anaconda/lib/python3.5/site-packages/matplotlib/__init__.py:898: UserWarning: axes.color_cycle is deprecated and replaced with axes.prop_cycle; please use the latter.\n",
      "  warnings.warn(self.msg_depr % (key, alt_key))\n"
     ]
    },
    {
     "data": {
      "text/plain": [
       "<matplotlib.axes._subplots.AxesSubplot at 0x11f4a9048>"
      ]
     },
     "execution_count": 90,
     "metadata": {},
     "output_type": "execute_result"
    }
   ],
   "source": [
    "hs.plot.plot_spectra(profile.inav[100,1:4,20], legend='auto')"
   ]
  },
  {
   "cell_type": "markdown",
   "metadata": {},
   "source": [
    "***\n",
    "### etc"
   ]
  },
  {
   "cell_type": "code",
   "execution_count": 93,
   "metadata": {
    "collapsed": false
   },
   "outputs": [
    {
     "data": {
      "text/html": [
       "<style>\n",
       "table, th, td {\n",
       "\tborder: 1px solid black;\n",
       "\tborder-collapse: collapse;\n",
       "}\n",
       "th, td {\n",
       "\tpadding: 5px;\n",
       "}\n",
       "</style>\n",
       "<p><b>< Axes manager, axes: (4, 39|256, 512) ></b></p>\n",
       "<table style='width:100%'>\n",
       "\n",
       "<tr> \n",
       "<th>Navigation axis name</th> \n",
       "<th>size</th> \n",
       "<th>index</th> \n",
       "<th>offset</th> \n",
       "<th>scale</th> \n",
       "<th>units</th> </tr>\n",
       "<tr> \n",
       "<td>stokes</td> \n",
       "<td>4</td> \n",
       "<td>0</td> \n",
       "<td>0.0</td> \n",
       "<td>1.0</td> \n",
       "<td><undefined></td> </tr>\n",
       "<tr> \n",
       "<td>scan</td> \n",
       "<td>39</td> \n",
       "<td>0</td> \n",
       "<td>980.0</td> \n",
       "<td>2.0</td> \n",
       "<td>arcsec</td> </tr></table>\n",
       "<table style='width:100%'>\n",
       "\n",
       "<tr> \n",
       "<th>Signal axis name</th> \n",
       "<th>size</th> \n",
       "<th>offset</th> \n",
       "<th>scale</th> \n",
       "<th>units</th> </tr>\n",
       "<tr> \n",
       "<td>slit</td> \n",
       "<td>256</td> \n",
       "<td>0.0</td> \n",
       "<td>1.0</td> \n",
       "<td><undefined></td> </tr>\n",
       "<tr> \n",
       "<td>wavelength</td> \n",
       "<td>512</td> \n",
       "<td>0.0</td> \n",
       "<td>1.0</td> \n",
       "<td><undefined></td> </tr></table>\n"
      ],
      "text/plain": [
       "<Axes manager, axes: (4, 39|256, 512)>\n",
       "            Name |   size |  index |  offset |   scale |  units \n",
       "================ | ====== | ====== | ======= | ======= | ====== \n",
       "          stokes |      4 |      0 |       0 |       1 | <undefined> \n",
       "            scan |     39 |      0 | 9.8e+02 |       2 | arcsec \n",
       "---------------- | ------ | ------ | ------- | ------- | ------ \n",
       "            slit |    256 |        |       0 |       1 | <undefined> \n",
       "      wavelength |    512 |        |       0 |       1 | <undefined> "
      ]
     },
     "execution_count": 93,
     "metadata": {},
     "output_type": "execute_result"
    }
   ],
   "source": [
    "s.axes_manager"
   ]
  },
  {
   "cell_type": "code",
   "execution_count": 100,
   "metadata": {
    "collapsed": false
   },
   "outputs": [
    {
     "name": "stderr",
     "output_type": "stream",
     "text": [
      "/Users/kouui/anaconda/lib/python3.5/site-packages/hyperspy/drawing/utils.py:855: UserWarning: Axes labels were requested, but one or both of the axes units and/or name are undefined. Axes decorations have been set to 'ticks' instead.\n",
      "  'Axes labels were requested, but one '\n"
     ]
    },
    {
     "data": {
      "text/plain": [
       "[<matplotlib.axes._subplots.AxesSubplot at 0x17450efd0>,\n",
       " <matplotlib.axes._subplots.AxesSubplot at 0x174776ef0>,\n",
       " <matplotlib.axes._subplots.AxesSubplot at 0x1749b22e8>,\n",
       " <matplotlib.axes._subplots.AxesSubplot at 0x174a3f630>]"
      ]
     },
     "execution_count": 100,
     "metadata": {},
     "output_type": "execute_result"
    }
   ],
   "source": [
    "hs.plot.plot_images(s.inav[:,2])"
   ]
  }
 ],
 "metadata": {
  "anaconda-cloud": {},
  "kernelspec": {
   "display_name": "Python [conda root]",
   "language": "python",
   "name": "conda-root-py"
  },
  "language_info": {
   "codemirror_mode": {
    "name": "ipython",
    "version": 3
   },
   "file_extension": ".py",
   "mimetype": "text/x-python",
   "name": "python",
   "nbconvert_exporter": "python",
   "pygments_lexer": "ipython3",
   "version": "3.5.2"
  }
 },
 "nbformat": 4,
 "nbformat_minor": 1
}
