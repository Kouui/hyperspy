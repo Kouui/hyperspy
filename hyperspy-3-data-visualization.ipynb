{
 "cells": [
  {
   "cell_type": "code",
   "execution_count": 1,
   "metadata": {
    "collapsed": true
   },
   "outputs": [],
   "source": [
    "%matplotlib qt4\n",
    "\n",
    "import hyperspy.api as hs\n",
    "\n",
    "import numpy as np\n",
    "import matplotlib.pyplot as plt"
   ]
  },
  {
   "cell_type": "code",
   "execution_count": 2,
   "metadata": {
    "collapsed": false
   },
   "outputs": [
    {
     "data": {
      "text/html": [
       "<style>\n",
       "table, th, td {\n",
       "\tborder: 1px solid black;\n",
       "\tborder-collapse: collapse;\n",
       "}\n",
       "th, td {\n",
       "\tpadding: 5px;\n",
       "}\n",
       "</style>\n",
       "<p><b>< Axes manager, axes: (4, 39|256, 512) ></b></p>\n",
       "<table style='width:100%'>\n",
       "\n",
       "<tr> \n",
       "<th>Navigation axis name</th> \n",
       "<th>size</th> \n",
       "<th>index</th> \n",
       "<th>offset</th> \n",
       "<th>scale</th> \n",
       "<th>units</th> </tr>\n",
       "<tr> \n",
       "<td>stokes</td> \n",
       "<td>4</td> \n",
       "<td>0</td> \n",
       "<td>0.0</td> \n",
       "<td>1.0</td> \n",
       "<td><undefined></td> </tr>\n",
       "<tr> \n",
       "<td>scan</td> \n",
       "<td>39</td> \n",
       "<td>0</td> \n",
       "<td>980.0</td> \n",
       "<td>2.0</td> \n",
       "<td>arcsec</td> </tr></table>\n",
       "<table style='width:100%'>\n",
       "\n",
       "<tr> \n",
       "<th>Signal axis name</th> \n",
       "<th>size</th> \n",
       "<th>offset</th> \n",
       "<th>scale</th> \n",
       "<th>units</th> </tr>\n",
       "<tr> \n",
       "<td>slit</td> \n",
       "<td>256</td> \n",
       "<td>0.0</td> \n",
       "<td>1.0</td> \n",
       "<td><undefined></td> </tr>\n",
       "<tr> \n",
       "<td>wavelength</td> \n",
       "<td>512</td> \n",
       "<td>0.0</td> \n",
       "<td>1.0</td> \n",
       "<td><undefined></td> </tr></table>\n"
      ],
      "text/plain": [
       "<Axes manager, axes: (4, 39|256, 512)>\n",
       "            Name |   size |  index |  offset |   scale |  units \n",
       "================ | ====== | ====== | ======= | ======= | ====== \n",
       "          stokes |      4 |      0 |       0 |       1 | <undefined> \n",
       "            scan |     39 |      0 | 9.8e+02 |       2 | arcsec \n",
       "---------------- | ------ | ------ | ------- | ------- | ------ \n",
       "            slit |    256 |        |       0 |       1 | <undefined> \n",
       "      wavelength |    512 |        |       0 |       1 | <undefined> "
      ]
     },
     "execution_count": 2,
     "metadata": {},
     "output_type": "execute_result"
    }
   ],
   "source": [
    "s = hs.load('./pro2016_1.hdf5')\n",
    "s.axes_manager"
   ]
  },
  {
   "cell_type": "code",
   "execution_count": 3,
   "metadata": {
    "collapsed": false
   },
   "outputs": [
    {
     "name": "stderr",
     "output_type": "stream",
     "text": [
      "WARNING:hyperspy.signal:<Signal1D, title: , dimensions: (256, 4, 39|512)> data is replaced by its optimized copy\n"
     ]
    },
    {
     "data": {
      "text/plain": [
       "<Signal1D, title: , dimensions: (256, 4, 39|512)>"
      ]
     },
     "execution_count": 3,
     "metadata": {},
     "output_type": "execute_result"
    }
   ],
   "source": [
    "profile = s.as_signal1D('wavelength')\n",
    "profile"
   ]
  },
  {
   "cell_type": "markdown",
   "metadata": {},
   "source": [
    "reference: [data visualization](http://hyperspy.org/hyperspy-doc/current/user_guide/visualisation.html)"
   ]
  },
  {
   "cell_type": "code",
   "execution_count": 4,
   "metadata": {
    "collapsed": false
   },
   "outputs": [],
   "source": [
    "s.plot()"
   ]
  },
  {
   "cell_type": "markdown",
   "metadata": {},
   "source": [
    "***\n",
    "### plotting several images\n",
    "\n",
    "HyperSpy provides three functions to plot multiple signals (spectra, images or other signals):\n",
    "\n",
    "- plot.plot_images( ) \n",
    "- plot.plot_spectra( ) \n",
    "- plot.plot_signals() \n",
    "\n",
    "in hyperspy.api module"
   ]
  },
  {
   "cell_type": "code",
   "execution_count": 5,
   "metadata": {
    "collapsed": false
   },
   "outputs": [
    {
     "data": {
      "text/html": [
       "<style>\n",
       "table, th, td {\n",
       "\tborder: 1px solid black;\n",
       "\tborder-collapse: collapse;\n",
       "}\n",
       "th, td {\n",
       "\tpadding: 5px;\n",
       "}\n",
       "</style>\n",
       "<p><b>< Axes manager, axes: (4, 39|256, 512) ></b></p>\n",
       "<table style='width:100%'>\n",
       "\n",
       "<tr> \n",
       "<th>Navigation axis name</th> \n",
       "<th>size</th> \n",
       "<th>index</th> \n",
       "<th>offset</th> \n",
       "<th>scale</th> \n",
       "<th>units</th> </tr>\n",
       "<tr> \n",
       "<td>stokes</td> \n",
       "<td>4</td> \n",
       "<td>0</td> \n",
       "<td>0.0</td> \n",
       "<td>1.0</td> \n",
       "<td><undefined></td> </tr>\n",
       "<tr> \n",
       "<td>scan</td> \n",
       "<td>39</td> \n",
       "<td>0</td> \n",
       "<td>980.0</td> \n",
       "<td>2.0</td> \n",
       "<td>arcsec</td> </tr></table>\n",
       "<table style='width:100%'>\n",
       "\n",
       "<tr> \n",
       "<th>Signal axis name</th> \n",
       "<th>size</th> \n",
       "<th>offset</th> \n",
       "<th>scale</th> \n",
       "<th>units</th> </tr>\n",
       "<tr> \n",
       "<td>slit</td> \n",
       "<td>256</td> \n",
       "<td>0.0</td> \n",
       "<td>1.0</td> \n",
       "<td><undefined></td> </tr>\n",
       "<tr> \n",
       "<td>wavelength</td> \n",
       "<td>512</td> \n",
       "<td>0.0</td> \n",
       "<td>1.0</td> \n",
       "<td><undefined></td> </tr></table>\n"
      ],
      "text/plain": [
       "<Axes manager, axes: (4, 39|256, 512)>\n",
       "            Name |   size |  index |  offset |   scale |  units \n",
       "================ | ====== | ====== | ======= | ======= | ====== \n",
       "          stokes |      4 |      0 |       0 |       1 | <undefined> \n",
       "            scan |     39 |      0 | 9.8e+02 |       2 | arcsec \n",
       "---------------- | ------ | ------ | ------- | ------- | ------ \n",
       "            slit |    256 |        |       0 |       1 | <undefined> \n",
       "      wavelength |    512 |        |       0 |       1 | <undefined> "
      ]
     },
     "execution_count": 5,
     "metadata": {},
     "output_type": "execute_result"
    }
   ],
   "source": [
    "s.axes_manager"
   ]
  },
  {
   "cell_type": "code",
   "execution_count": 6,
   "metadata": {
    "collapsed": false
   },
   "outputs": [
    {
     "name": "stderr",
     "output_type": "stream",
     "text": [
      "/Users/kouui/anaconda/lib/python3.5/site-packages/hyperspy/drawing/utils.py:855: UserWarning: Axes labels were requested, but one or both of the axes units and/or name are undefined. Axes decorations have been set to 'ticks' instead.\n",
      "  'Axes labels were requested, but one '\n"
     ]
    },
    {
     "data": {
      "text/plain": [
       "[<matplotlib.axes._subplots.AxesSubplot at 0x10bf2c320>,\n",
       " <matplotlib.axes._subplots.AxesSubplot at 0x134cc5fd0>,\n",
       " <matplotlib.axes._subplots.AxesSubplot at 0x13dd530b8>,\n",
       " <matplotlib.axes._subplots.AxesSubplot at 0x13dd5ae80>]"
      ]
     },
     "execution_count": 6,
     "metadata": {},
     "output_type": "execute_result"
    }
   ],
   "source": [
    "hs.plot.plot_images(s.inav[:,20], tight_layout=True)"
   ]
  },
  {
   "cell_type": "markdown",
   "metadata": {},
   "source": [
    "***\n",
    "### specify navigation space and signal space\n",
    "\n",
    "[hyperspy API](http://hyperspy.org/hyperspy-doc/current/api/hyperspy.html?highlight=as_signal2d#hyperspy.signal.BaseSignal.transpose)"
   ]
  },
  {
   "cell_type": "code",
   "execution_count": 7,
   "metadata": {
    "collapsed": false
   },
   "outputs": [
    {
     "data": {
      "text/plain": [
       "<BaseSignal, title: , dimensions: (39|4, 256, 512)>"
      ]
     },
     "execution_count": 7,
     "metadata": {},
     "output_type": "execute_result"
    }
   ],
   "source": [
    "test = s.transpose(signal_axes=[0,2,3])\n",
    "test"
   ]
  },
  {
   "cell_type": "code",
   "execution_count": 8,
   "metadata": {
    "collapsed": false
   },
   "outputs": [
    {
     "data": {
      "text/plain": [
       "[<matplotlib.axes._subplots.AxesSubplot at 0x12a3f0e80>,\n",
       " <matplotlib.axes._subplots.AxesSubplot at 0x12a40e9e8>,\n",
       " <matplotlib.axes._subplots.AxesSubplot at 0x13de14978>,\n",
       " <matplotlib.axes._subplots.AxesSubplot at 0x13f011f98>]"
      ]
     },
     "execution_count": 8,
     "metadata": {},
     "output_type": "execute_result"
    }
   ],
   "source": [
    "hs.plot.plot_images(s.inav[:,19], suptitle='stokes profile at step 20', axes_decor='off',\n",
    "                    label=['I', 'Q', 'U', 'V'], colorbar = 'multi', \n",
    "                    per_row = 2, tight_layout=True)"
   ]
  },
  {
   "cell_type": "markdown",
   "metadata": {},
   "source": [
    "***\n",
    "### navigate all four stokes"
   ]
  },
  {
   "cell_type": "code",
   "execution_count": 10,
   "metadata": {
    "collapsed": false
   },
   "outputs": [],
   "source": [
    "hs.plot.plot_signals([s.inav[0,:], s.inav[1,:], s.inav[2,:], s.inav[3,:]], sync=True)"
   ]
  },
  {
   "cell_type": "code",
   "execution_count": null,
   "metadata": {
    "collapsed": true
   },
   "outputs": [],
   "source": []
  },
  {
   "cell_type": "code",
   "execution_count": null,
   "metadata": {
    "collapsed": true
   },
   "outputs": [],
   "source": []
  }
 ],
 "metadata": {
  "anaconda-cloud": {},
  "kernelspec": {
   "display_name": "Python [conda root]",
   "language": "python",
   "name": "conda-root-py"
  },
  "language_info": {
   "codemirror_mode": {
    "name": "ipython",
    "version": 3
   },
   "file_extension": ".py",
   "mimetype": "text/x-python",
   "name": "python",
   "nbconvert_exporter": "python",
   "pygments_lexer": "ipython3",
   "version": "3.5.2"
  }
 },
 "nbformat": 4,
 "nbformat_minor": 1
}
